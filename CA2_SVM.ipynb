{
 "cells": [
  {
   "cell_type": "code",
   "execution_count": 1,
   "id": "d070657c",
   "metadata": {},
   "outputs": [],
   "source": [
    "import numpy as np\n",
    "import cv2, random, os\n",
    "import matplotlib.pyplot as plt\n",
    "\n",
    "from PIL import Image\n",
    "from pathlib import Path\n",
    "from numpy import linalg as LA\n",
    "from numpy.linalg import inv\n",
    "from libsvm.svm import svm_problem, svm_parameter\n",
    "from libsvm.svmutil import svm_train, svm_predict"
   ]
  },
  {
   "cell_type": "code",
   "execution_count": 2,
   "id": "5ec0decb",
   "metadata": {},
   "outputs": [],
   "source": [
    "folders = random.sample(range(1, 68), 25)\n",
    "training_set_list = []\n",
    "test_set_list = []\n",
    "training_label_list = []\n",
    "test_label_list = []\n",
    "\n",
    "for folder in folders:\n",
    "    sub_train_img_list = []\n",
    "    sub_train_label_list = []\n",
    "    sub_test_img_list = []\n",
    "    sub_test_label_list = []\n",
    "    \n",
    "    # select random folder subject\n",
    "    folder_path = os.getcwd()+\"/PIE/%s\"%folder\n",
    "    jpg_files = [f for f in os.listdir(folder_path) if f.endswith('.jpg')]\n",
    "    sub_training_img_file =random.sample(jpg_files, 119)\n",
    "    sub_test_img_file = [f for f in jpg_files if f not in sub_training_img_file]\n",
    "    \n",
    "    for single_file in sub_training_img_file:\n",
    "        single_img = cv2.imread(folder_path+'/'+single_file , cv2.IMREAD_GRAYSCALE)\n",
    "        # flatten the pixel value from (32,32) to (1,1024)\n",
    "        single_img = single_img.reshape(1,1024)\n",
    "        #sub_train_img_list.append(single_img)\n",
    "        #sub_train_label_list.append(folder)\n",
    "        training_set_list.append(single_img)\n",
    "        training_label_list.append(folder)\n",
    "    \n",
    "    for single_file in sub_test_img_file:\n",
    "        single_img = cv2.imread(folder_path+'/'+single_file, cv2.IMREAD_GRAYSCALE)\n",
    "        single_img = single_img.reshape(1,1024)\n",
    "        #print(single_img)\n",
    "        #print('')\n",
    "        #sub_test_img_list.append(single_img)\n",
    "        #sub_test_label_list.append(folder)        \n",
    "        test_set_list.append(single_img)\n",
    "        test_label_list.append(folder)"
   ]
  },
  {
   "cell_type": "code",
   "execution_count": 3,
   "id": "252b2109",
   "metadata": {},
   "outputs": [],
   "source": [
    "# get gray-scale and reshape the images\n",
    "self_path = os.getcwd()+'/self'\n",
    "self_img_list = []\n",
    "for sub_self_img in os.listdir(self_path):\n",
    "    if sub_self_img.startswith('self'):\n",
    "        color_image = cv2.imread(self_path+'/'+sub_self_img)\n",
    "\n",
    "        # convert colorful image to gray-scale image\n",
    "        gray_image = cv2.cvtColor(color_image, cv2.COLOR_BGR2GRAY)\n",
    "        # resize image to 32*32 pixels \n",
    "        resized_image = cv2.resize(gray_image, (32, 32))\n",
    "        resized_image = resized_image.reshape(1,1024)\n",
    "        #print(resized_image.shape)\n",
    "        self_img_list.append(resized_image)\n",
    "# split slef-images into train and test\n",
    "\n",
    "# label self img as 100        \n",
    "for single_self_img in self_img_list[:7]:\n",
    "    training_set_list.append(single_self_img)\n",
    "    training_label_list.append(100)\n",
    "for single_self_img in self_img_list[7:]:\n",
    "    test_set_list.append(single_img)\n",
    "    test_label_list.append(100)\n",
    "    \n",
    "#samples = np.random.default_rng(120).choice(np.arange(2982), 500, replace=False)\n",
    "samples = random.sample(range(1,2982),500)\n",
    "X_train = []\n",
    "y_train = []\n",
    "for i in samples:\n",
    "    #print(i)\n",
    "    X_train.append(training_set_list[i])\n",
    "    y_train.append(training_label_list[i])\n",
    "X_train = np.array(X_train) # numpy.ndarray, each element is numpy.ndarray\n",
    "\n",
    "#y_train = np.array(y_train)\n",
    "mean_X = np.mean(X_train, axis = 0)\n",
    "centered_X = X_train - mean_X # numpy.ndarray\n",
    "centered_X = centered_X.reshape(500,1024)\n",
    "centered_X = centered_X.T\n",
    "U, D, VT = np.linalg.svd(centered_X , full_matrices=False)\n",
    "D_diag = np.diag(D)\n",
    "U_200 = U[:,:200]\n",
    "X_train = X_train.reshape(500,1024)\n",
    "\n",
    "U_200 = U[:,:200]\n",
    "X_restructure_200 =  U_200.T @ X_train.T\n",
    "X_restructure_200 = X_restructure_200.T # 500,200"
   ]
  },
  {
   "cell_type": "code",
   "execution_count": 4,
   "id": "f21e7651",
   "metadata": {},
   "outputs": [],
   "source": [
    "test_x = []\n",
    "test_y = []\n",
    "for i in range(len(test_set_list)):\n",
    "    test_x.append(test_set_list[i])\n",
    "    test_y.append(test_label_list[i])\n",
    "    \n",
    "test_x = np.array(test_x)\n",
    "test_x = test_x.reshape(1278,1024)"
   ]
  },
  {
   "cell_type": "code",
   "execution_count": 5,
   "id": "671eac46",
   "metadata": {},
   "outputs": [],
   "source": [
    "mean_testX = np.mean(test_x, axis = 0)\n",
    "centered_testX = test_x - mean_testX # numpy.ndarray\n",
    "centered_testX = centered_testX.reshape(1278,1024)\n",
    "centered_testX = centered_testX.T\n",
    "\n",
    "full_X_pca_test = U_200.T @ test_x.T\n",
    "full_X_pca_test = full_X_pca_test.T"
   ]
  },
  {
   "cell_type": "code",
   "execution_count": 6,
   "id": "31aece04",
   "metadata": {},
   "outputs": [
    {
     "data": {
      "text/plain": [
       "((1278, 200), 1278)"
      ]
     },
     "execution_count": 6,
     "metadata": {},
     "output_type": "execute_result"
    }
   ],
   "source": [
    "full_X_pca_test.shape, len(test_y)"
   ]
  },
  {
   "cell_type": "markdown",
   "id": "a95a828b",
   "metadata": {},
   "source": [
    " ## SVM"
   ]
  },
  {
   "cell_type": "markdown",
   "id": "80375093",
   "metadata": {},
   "source": [
    "1. raw image classification"
   ]
  },
  {
   "cell_type": "code",
   "execution_count": 15,
   "id": "b1ca5f13",
   "metadata": {},
   "outputs": [],
   "source": [
    "def SVM_raw(y_train, X_train,t, C):\n",
    "    param = svm_parameter('-t %s -c %s -b 1'%(t,C))\n",
    "    prob = svm_problem(y_train, X_train)\n",
    "    model_001 = svm_train(prob, param)\n",
    "\n",
    "    p_labs, p_acc, p_vals = svm_predict(test_y, test_x, model_001,'-b 1')\n",
    "    return "
   ]
  },
  {
   "cell_type": "code",
   "execution_count": 16,
   "id": "4a462aa5",
   "metadata": {},
   "outputs": [],
   "source": [
    "def SVM_200(y, X, t, C):\n",
    "    param = svm_parameter('-t %s -c %s -b 1'%(t,C))\n",
    "    prob = svm_problem(y, X)\n",
    "    model_001 = svm_train(prob, param)\n",
    "\n",
    "    p_labs, p_acc, p_vals = svm_predict(test_y, full_X_pca_test, model_001,'-b 1')\n",
    "    return "
   ]
  },
  {
   "cell_type": "code",
   "execution_count": 17,
   "id": "82ab2fd5",
   "metadata": {},
   "outputs": [],
   "source": [
    "def SVM_80(y, X , t, C):\n",
    "    param = svm_parameter('-t %s -c %s -b 1'%(t,C))\n",
    "    prob = svm_problem(y, X)\n",
    "    model_001 = svm_train(prob, param)\n",
    "\n",
    "    p_labs, p_acc, p_vals = svm_predict(test_y, full_X_pca_test[:,:80], model_001,'-b 1')\n",
    "    return "
   ]
  },
  {
   "cell_type": "markdown",
   "id": "5bb39f84",
   "metadata": {},
   "source": [
    "1. RAW image classification"
   ]
  },
  {
   "cell_type": "code",
   "execution_count": 24,
   "id": "6578b229",
   "metadata": {},
   "outputs": [
    {
     "name": "stdout",
     "output_type": "stream",
     "text": [
      "with penalty C 0.01 and parameter t 0\n",
      "Accuracy = 84.8983% (1085/1278) (classification)\n",
      "with penalty C 0.01 and parameter t 1\n",
      "Accuracy = 56.8858% (727/1278) (classification)\n",
      "with penalty C 0.1 and parameter t 0\n",
      "Accuracy = 84.8983% (1085/1278) (classification)\n",
      "with penalty C 0.1 and parameter t 1\n",
      "Accuracy = 56.4945% (722/1278) (classification)\n",
      "with penalty C 1 and parameter t 0\n",
      "Accuracy = 84.82% (1084/1278) (classification)\n",
      "with penalty C 1 and parameter t 1\n",
      "Accuracy = 56.7293% (725/1278) (classification)\n"
     ]
    }
   ],
   "source": [
    "for C in [0.01,0.1,1]:\n",
    "    for t in [0,1]:\n",
    "        print('with penalty C %s and parameter t %s'%(C,t))\n",
    "        SVM_raw(y_train, X_train,t,C)"
   ]
  },
  {
   "cell_type": "markdown",
   "id": "998286d9",
   "metadata": {},
   "source": [
    "2. 200 dimension image classification"
   ]
  },
  {
   "cell_type": "code",
   "execution_count": 25,
   "id": "006bb462",
   "metadata": {},
   "outputs": [
    {
     "name": "stdout",
     "output_type": "stream",
     "text": [
      "with penalty C 0.01 and parameter t 0\n",
      "Accuracy = 84.1941% (1076/1278) (classification)\n",
      "with penalty C 0.01 and parameter t 2\n",
      "Accuracy = 3.99061% (51/1278) (classification)\n",
      "with penalty C 0.1 and parameter t 0\n",
      "Accuracy = 84.507% (1080/1278) (classification)\n",
      "with penalty C 0.1 and parameter t 2\n",
      "Accuracy = 3.99061% (51/1278) (classification)\n",
      "with penalty C 1 and parameter t 0\n",
      "Accuracy = 83.9593% (1073/1278) (classification)\n",
      "with penalty C 1 and parameter t 2\n",
      "Accuracy = 3.99061% (51/1278) (classification)\n"
     ]
    }
   ],
   "source": [
    "for C in [0.01,0.1,1]:\n",
    "    for t in [0,2]:\n",
    "        print('with penalty C %s and parameter t %s'%(C,t))\n",
    "        SVM_200(y_train, X_restructure_200,t, C)"
   ]
  },
  {
   "cell_type": "markdown",
   "id": "7d8c0cc2",
   "metadata": {},
   "source": [
    "3. 80 dimension image classification "
   ]
  },
  {
   "cell_type": "code",
   "execution_count": 26,
   "id": "3d4b6bcc",
   "metadata": {},
   "outputs": [
    {
     "name": "stdout",
     "output_type": "stream",
     "text": [
      "with penalty C 0.01 and parameter t 0\n",
      "Accuracy = 83.0203% (1061/1278) (classification)\n",
      "with penalty C 0.01 and parameter t 3\n",
      "Accuracy = 3.99061% (51/1278) (classification)\n",
      "with penalty C 0.1 and parameter t 0\n",
      "Accuracy = 82.7074% (1057/1278) (classification)\n",
      "with penalty C 0.1 and parameter t 3\n",
      "Accuracy = 3.99061% (51/1278) (classification)\n",
      "with penalty C 1 and parameter t 0\n",
      "Accuracy = 82.5509% (1055/1278) (classification)\n",
      "with penalty C 1 and parameter t 3\n",
      "Accuracy = 3.99061% (51/1278) (classification)\n"
     ]
    }
   ],
   "source": [
    "for C in [0.01,0.1,1]:\n",
    "    for t in [0,3]:\n",
    "        print('with penalty C %s and parameter t %s'%(C,t))\n",
    "        SVM_80(y_train, X_restructure_200[:,:80], t, C)"
   ]
  },
  {
   "cell_type": "code",
   "execution_count": null,
   "id": "42e1f9e3",
   "metadata": {},
   "outputs": [],
   "source": []
  },
  {
   "cell_type": "code",
   "execution_count": null,
   "id": "270931f6",
   "metadata": {},
   "outputs": [],
   "source": []
  },
  {
   "cell_type": "code",
   "execution_count": null,
   "id": "d622c4d8",
   "metadata": {},
   "outputs": [],
   "source": []
  },
  {
   "cell_type": "code",
   "execution_count": null,
   "id": "843e8aa4",
   "metadata": {},
   "outputs": [],
   "source": []
  },
  {
   "cell_type": "code",
   "execution_count": null,
   "id": "6f05c747",
   "metadata": {},
   "outputs": [],
   "source": []
  }
 ],
 "metadata": {
  "kernelspec": {
   "display_name": "Python 3 (ipykernel)",
   "language": "python",
   "name": "python3"
  },
  "language_info": {
   "codemirror_mode": {
    "name": "ipython",
    "version": 3
   },
   "file_extension": ".py",
   "mimetype": "text/x-python",
   "name": "python",
   "nbconvert_exporter": "python",
   "pygments_lexer": "ipython3",
   "version": "3.8.17"
  }
 },
 "nbformat": 4,
 "nbformat_minor": 5
}
