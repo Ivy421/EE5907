{
 "cells": [
  {
   "cell_type": "code",
   "execution_count": 1,
   "id": "dc889498",
   "metadata": {},
   "outputs": [
    {
     "name": "stdout",
     "output_type": "stream",
     "text": [
      "[1.64526700e-115 1.33665018e-115]\n",
      "Program done!\n"
     ]
    },
    {
     "name": "stderr",
     "output_type": "stream",
     "text": [
      "H:\\Anaconda3_2021\\anaconda\\lib\\site-packages\\scipy\\optimize\\_minpack_py.py:178: RuntimeWarning: The number of calls to function has reached maxfev = 600.\n",
      "  warnings.warn(msg, RuntimeWarning)\n"
     ]
    }
   ],
   "source": [
    "\n",
    "from scipy.optimize import fsolve\n",
    " \n",
    "def solve_function(unsolved_value):\n",
    "    x,y=unsolved_value[0],unsolved_value[1]\n",
    "    return [\n",
    "        x*x+2*x*y,\n",
    "        2*x*y-2*y*y\n",
    "    ]\n",
    " \n",
    "solved=fsolve(solve_function,[6, -3])\n",
    "print(solved)\n",
    " \n",
    "print(\"Program done!\")"
   ]
  },
  {
   "cell_type": "code",
   "execution_count": null,
   "id": "958c5e7f",
   "metadata": {},
   "outputs": [],
   "source": []
  }
 ],
 "metadata": {
  "kernelspec": {
   "display_name": "Python 3 (ipykernel)",
   "language": "python",
   "name": "python3"
  },
  "language_info": {
   "codemirror_mode": {
    "name": "ipython",
    "version": 3
   },
   "file_extension": ".py",
   "mimetype": "text/x-python",
   "name": "python",
   "nbconvert_exporter": "python",
   "pygments_lexer": "ipython3",
   "version": "3.8.17"
  }
 },
 "nbformat": 4,
 "nbformat_minor": 5
}
