{
 "cells": [
  {
   "cell_type": "code",
   "execution_count": 159,
   "id": "dc889498",
   "metadata": {},
   "outputs": [],
   "source": [
    "%matplotlib inline\n",
    "import matplotlib.pyplot as plt\n",
    "import numpy as np\n",
    "from itertools import chain"
   ]
  },
  {
   "cell_type": "markdown",
   "id": "98e41902",
   "metadata": {},
   "source": [
    "2. generate data"
   ]
  },
  {
   "cell_type": "code",
   "execution_count": 2,
   "id": "958c5e7f",
   "metadata": {},
   "outputs": [
    {
     "data": {
      "image/png": "[encoded data removed]",
      "text/plain": [
       "<Figure size 640x480 with 1 Axes>"
      ]
     },
     "metadata": {},
     "output_type": "display_data"
    }
   ],
   "source": [
    "N1 = 50\n",
    "N2 = 50\n",
    "K =2\n",
    "sigma = 0.1\n",
    "\n",
    "mean = (6,6)\n",
    "cov = [[sigma,0],[0,sigma]]\n",
    "x1 = np.random.multivariate_normal(mean,cov,N1)\n",
    "c1 = ['red']*len(x1)\n",
    "\n",
    "mean = (4,8)\n",
    "cov = [[sigma,0],[0,sigma]]\n",
    "x2 = np.random.multivariate_normal(mean,cov,N2)\n",
    "c2 = ['blue']*len(x2)\n",
    "\n",
    "# outlier\n",
    "mean = (9,6)\n",
    "cov = [[sigma,0],[0,sigma]]\n",
    "x3 = np.random.multivariate_normal(mean,cov,int(np.floor(N2)))\n",
    "c3 = ['blue']*len(x3)\n",
    "\n",
    "x = np.concatenate((x1,x2))\n",
    "color = np.concatenate((c1,c2))\n",
    "\n",
    "T =[]\n",
    "for n in range(0,len(x)):\n",
    "    if (n<len(x1)):\n",
    "        T.append(0)\n",
    "    if(n>=len(x1) and n<(len(x2)+len(x1))):\n",
    "        T.append(1)\n",
    "plt.scatter(x[:,0],x[:,1], marker = 'o',c=color)\n",
    "plt.show()"
   ]
  },
  {
   "cell_type": "code",
   "execution_count": 3,
   "id": "9c7834bd",
   "metadata": {},
   "outputs": [],
   "source": [
    "first_coor = x[:,0]\n",
    "second_coor = x[:,1]"
   ]
  },
  {
   "cell_type": "code",
   "execution_count": 4,
   "id": "75a3774d",
   "metadata": {},
   "outputs": [
    {
     "data": {
      "text/plain": [
       "100"
      ]
     },
     "execution_count": 4,
     "metadata": {},
     "output_type": "execute_result"
    }
   ],
   "source": [
    "len(x)"
   ]
  },
  {
   "cell_type": "markdown",
   "id": "788924b7",
   "metadata": {},
   "source": [
    "3. Implement the MAP for classification, so that using the above data as training, we can generate a classifier in the basis function space (a space with higher dimensionality). Show the first and second bases similar to:"
   ]
  },
  {
   "cell_type": "code",
   "execution_count": 108,
   "id": "1f6210c0",
   "metadata": {},
   "outputs": [],
   "source": [
    "def capfi_1col(axis1,axis2,u,s,M):\n",
    "    # calculate FI by columns\n",
    "    fik_col = np.exp(  -((axis1-u)**2+(axis2-u)**2)  /2/s**2  )\n",
    "    #print(fik_col)\n",
    "    return fik_col\n",
    "\n",
    "def CAL_captical_fi(axis1,axis2,N,M,s,um):\n",
    "    cap_fi = np.zeros((N,M))\n",
    "    t_mle = np.zeros((N,1))\n",
    "\n",
    "    for i in range(M):\n",
    "        #for j in range (M):\n",
    "        if i ==0:\n",
    "            cap_fi[:,i] = 1\n",
    "        else:\n",
    "            cap_fi[:,i] = capfi_1col(axis1,axis2,um[i-1],s,M)\n",
    "    return cap_fi"
   ]
  },
  {
   "cell_type": "code",
   "execution_count": 109,
   "id": "3bda29a3",
   "metadata": {},
   "outputs": [],
   "source": [
    "def sigmoid_update(N,w_bar,cap_FI):\n",
    "    sigmoid_bar = []\n",
    "    rnn = []\n",
    "    for i in range(N):\n",
    "        fi_n = cap_FI[i,:]\n",
    "        #print(fi_n.shape)\n",
    "        sigmoid_n = 1/(1+np.exp(-np.dot(w_bar.T,fi_n))) \n",
    "        #print(sigmoid_n)\n",
    "        sigmoid_n = float(sigmoid_n)\n",
    "        sigmoid_bar.append( sigmoid_n )\n",
    "        rnn.append(sigmoid_n*(1-sigmoid_n))\n",
    "        #print(1/(1+np.exp(-np.dot(w_bar.T,fi_n.T))))\n",
    "    R = np.diag(rnn)\n",
    "    sigmoid_bar_array = np.array(sigmoid_bar)\n",
    "    #print(\"sigmoid_bar:\",sigmoid_bar_array)\n",
    "    #print('R:',R)\n",
    "    return R,sigmoid_bar_array"
   ]
  },
  {
   "cell_type": "code",
   "execution_count": 152,
   "id": "c018365a",
   "metadata": {},
   "outputs": [],
   "source": [
    "N = len(x) #+len(second_coor)\n",
    "M =  10# model complexity\n",
    "alpha = 0.6\n",
    "beta= 2500\n",
    "um = np.arange(1/M,1,1/M)*12\n",
    "s = 0.6\n",
    "FI = CAL_captical_fi(first_coor,second_coor,N,M,s,um)\n",
    "inv_ss0 = 1/alpha*np.identity(M)\n",
    "w_bar = np.zeros((M,1))\n",
    "t_bar = np.reshape(np.array(T),(N,1))"
   ]
  },
  {
   "cell_type": "code",
   "execution_count": 153,
   "id": "a8301de7",
   "metadata": {},
   "outputs": [],
   "source": [
    "for i in range(20):\n",
    "    \n",
    "    R,sigmoid_bar_array = sigmoid_update(N,w_bar,FI)\n",
    "    sigmoid_bar_array = np.reshape(sigmoid_bar_array,(N,1))\n",
    "    diffE = np.dot(inv_ss0,w_bar) + np.dot(FI.T,(sigmoid_bar_array-t_bar)) # 10*10 wrong!\n",
    "    #print(\"diffE shape:\",diffE.shape)\n",
    "    #print('diffE:', diffE)\n",
    "    H = inv_ss0 + np.dot(np.dot(FI.T, R), FI)\n",
    "    #print('H:',H)\n",
    "    #print(\"H shape:\", H.shape)\n",
    "    w_bar = w_bar - np.dot(np.linalg.inv(H), diffE)\n",
    "    #print(\"w_bar shape:\",w_bar.shape)\n"
   ]
  },
  {
   "cell_type": "code",
   "execution_count": 169,
   "id": "e04deccd",
   "metadata": {},
   "outputs": [
    {
     "data": {
      "text/plain": [
       "<matplotlib.colorbar.Colorbar at 0x21f2dbc4a30>"
      ]
     },
     "execution_count": 169,
     "metadata": {},
     "output_type": "execute_result"
    },
    {
     "data": {
      "image/png": "[encoded data removed]",
      "text/plain": [
       "<Figure size 640x480 with 2 Axes>"
      ]
     },
     "metadata": {},
     "output_type": "display_data"
    }
   ],
   "source": [
    "side = np.linspace(0, 10, 100)\n",
    "Xx,Yy = np.meshgrid(side, side)\n",
    "Xx_c = list(chain(*Xx))\n",
    "Yy_c = list(chain(*Yy))\n",
    "\n",
    "plt.figure(1)\n",
    "cc = plt.pcolormesh(x, cmap='jet')\n",
    "plt.scatter(x[:, 0], x[:, 1], marker = 'o', c = color )\n",
    "plt.colorbar(cc)"
   ]
  },
  {
   "cell_type": "code",
   "execution_count": 154,
   "id": "fdb5eddc",
   "metadata": {
    "scrolled": true
   },
   "outputs": [
    {
     "data": {
      "text/plain": [
       "array([[1.00000000e+00, 3.91875090e-25, 7.41567292e-14, 4.70757903e-06,\n",
       "        1.00251024e-01, 7.16183250e-01, 1.71634128e-03, 1.37983539e-09,\n",
       "        3.72130319e-19, 3.36671983e-32],\n",
       "       [1.00000000e+00, 1.22556734e-34, 5.01809880e-21, 6.89263659e-11,\n",
       "        3.17596494e-04, 4.90919363e-01, 2.54559184e-01, 4.42803987e-05,\n",
       "        2.58391617e-12, 5.05812388e-23],\n",
       "       [1.00000000e+00, 2.59402579e-31, 1.74716423e-18, 3.94763794e-09,\n",
       "        2.99216159e-03, 7.60811237e-01, 6.48952542e-02, 1.85691961e-06,\n",
       "        1.78245022e-14, 5.73965600e-26],\n",
       "       [1.00000000e+00, 9.30297882e-28, 8.62827450e-16, 2.68454087e-07,\n",
       "        2.80194903e-02, 9.81057779e-01, 1.15231996e-02, 4.54041690e-08,\n",
       "        6.00153746e-17, 2.66117513e-29],\n",
       "       [1.00000000e+00, 7.16641804e-26, 1.67164221e-14, 1.30806300e-06,\n",
       "        3.43366674e-02, 3.02365173e-01, 8.93201689e-04, 8.85138944e-10,\n",
       "        2.94250702e-19, 3.28146451e-32],\n",
       "       [1.00000000e+00, 2.82668175e-26, 1.01561215e-14, 1.22411722e-06,\n",
       "        4.94951075e-02, 6.71344879e-01, 3.05473284e-03, 4.66278008e-09,\n",
       "        2.38759563e-18, 4.10129268e-31],\n",
       "       [1.00000000e+00, 6.62071324e-31, 3.67153064e-18, 6.83020409e-09,\n",
       "        4.26249959e-03, 8.92358086e-01, 6.26697730e-02, 1.47645843e-06,\n",
       "        1.16688612e-14, 3.09371188e-26],\n",
       "       [1.00000000e+00, 2.73864761e-31, 1.87234257e-18, 4.29416386e-09,\n",
       "        3.30381758e-03, 8.52702725e-01, 7.38283882e-02, 2.14433813e-06,\n",
       "        2.08933122e-14, 6.82913133e-26],\n",
       "       [1.00000000e+00, 1.93942457e-29, 4.73225219e-17, 3.87353079e-08,\n",
       "        1.06362929e-02, 9.79755499e-01, 3.02753572e-02, 3.13837609e-07,\n",
       "        1.09135198e-15, 1.27311854e-27],\n",
       "       [1.00000000e+00, 1.14923832e-29, 3.16778087e-17, 2.92916819e-08,\n",
       "        9.08610247e-03, 9.45485987e-01, 3.30047698e-02, 3.86493739e-07,\n",
       "        1.51828172e-15, 2.00081258e-27],\n",
       "       [1.00000000e+00, 1.98128023e-25, 4.58496160e-14, 3.55934139e-06,\n",
       "        9.26931692e-02, 8.09785436e-01, 2.37321092e-03, 2.33317255e-09,\n",
       "        7.69487419e-19, 8.51334696e-32],\n",
       "       [1.00000000e+00, 2.42601224e-29, 5.10600279e-17, 3.60506628e-08,\n",
       "        8.53865772e-03, 6.78437898e-01, 1.80831773e-02, 1.61690136e-07,\n",
       "        4.84994100e-16, 4.88015403e-28],\n",
       "       [1.00000000e+00, 1.00680991e-31, 8.74762158e-19, 2.54962692e-09,\n",
       "        2.49291477e-03, 8.17678104e-01, 8.99707730e-02, 3.32096791e-06,\n",
       "        4.11217939e-14, 1.70814042e-25],\n",
       "       [1.00000000e+00, 7.80727166e-33, 1.21249312e-19, 6.31689154e-10,\n",
       "        1.10400668e-03, 6.47267987e-01, 1.27303604e-01, 8.39926755e-06,\n",
       "        1.85902948e-13, 1.38030570e-24],\n",
       "       [1.00000000e+00, 4.08898539e-33, 7.42030104e-20, 4.51722409e-10,\n",
       "        9.22498973e-04, 6.31981393e-01, 1.45240200e-01, 1.11973055e-05,\n",
       "        2.89590534e-13, 2.51246107e-24],\n",
       "       [1.00000000e+00, 2.10891538e-31, 1.51871881e-18, 3.66893259e-09,\n",
       "        2.97335141e-03, 8.08345251e-01, 7.37210797e-02, 2.25543662e-06,\n",
       "        2.31480128e-14, 7.96968111e-26],\n",
       "       [1.00000000e+00, 1.59501613e-26, 7.09379421e-15, 1.05836687e-06,\n",
       "        5.29709830e-02, 8.89373066e-01, 5.00926559e-03, 9.46473128e-09,\n",
       "        5.99910776e-18, 1.27558435e-30],\n",
       "       [1.00000000e+00, 6.66879739e-30, 2.11388936e-17, 2.24781792e-08,\n",
       "        8.01833412e-03, 9.59513996e-01, 3.85179020e-02, 5.18702186e-07,\n",
       "        2.34324488e-15, 3.55108789e-27],\n",
       "       [1.00000000e+00, 9.52819198e-29, 1.51402063e-16, 8.07044035e-08,\n",
       "        1.44313452e-02, 8.65686298e-01, 1.74204118e-02, 1.17598135e-07,\n",
       "        2.66309462e-16, 2.02309793e-28],\n",
       "       [1.00000000e+00, 3.12929390e-26, 9.18586854e-15, 9.04561800e-07,\n",
       "        2.98813631e-02, 3.31136240e-01, 1.23099748e-03, 1.53515334e-09,\n",
       "        6.42229873e-19, 9.01308338e-32],\n",
       "       [1.00000000e+00, 6.17932450e-26, 1.86298944e-14, 1.88418669e-06,\n",
       "        6.39266007e-02, 7.27584498e-01, 2.77798188e-03, 3.55811126e-09,\n",
       "        1.52881095e-18, 2.20359708e-31],\n",
       "       [1.00000000e+00, 9.99814754e-27, 4.91012981e-15, 8.08929272e-07,\n",
       "        4.47066649e-02, 8.28854196e-01, 5.15499386e-03, 1.07552945e-08,\n",
       "        7.52767065e-18, 1.76743339e-30],\n",
       "       [1.00000000e+00, 4.30717573e-27, 2.70482077e-15, 5.69807997e-07,\n",
       "        4.02682477e-02, 9.54643167e-01, 7.59212849e-03, 2.02549034e-08,\n",
       "        1.81276266e-17, 5.44246772e-30],\n",
       "       [1.00000000e+00, 7.65096409e-30, 2.30943584e-17, 2.33851298e-08,\n",
       "        7.94360816e-03, 9.05190498e-01, 3.46024065e-02, 4.43727931e-07,\n",
       "        1.90884812e-15, 2.75467346e-27],\n",
       "       [1.00000000e+00, 3.95175483e-28, 4.48955696e-16, 1.71104379e-07,\n",
       "        2.18757477e-02, 9.38228958e-01, 1.34989163e-02, 6.51528056e-08,\n",
       "        1.05490046e-16, 5.72972779e-29],\n",
       "       [1.00000000e+00, 1.45617767e-28, 2.00749615e-16, 9.28408744e-08,\n",
       "        1.44034944e-02, 7.49619123e-01, 1.30875270e-02, 7.66511492e-08,\n",
       "        1.50599627e-16, 9.92597698e-29],\n",
       "       [1.00000000e+00, 6.42261256e-31, 3.58856034e-18, 6.72624878e-09,\n",
       "        4.22931219e-03, 8.92094182e-01, 6.31241895e-02, 1.49839069e-06,\n",
       "        1.19315939e-14, 3.18724909e-26],\n",
       "       [1.00000000e+00, 1.34407602e-28, 2.00627747e-16, 1.00462112e-07,\n",
       "        1.68755430e-02, 9.50949275e-01, 1.79763325e-02, 1.13995834e-07,\n",
       "        2.42505175e-16, 1.73060194e-28],\n",
       "       [1.00000000e+00, 8.30044759e-26, 2.39788749e-14, 2.32380797e-06,\n",
       "        7.55467555e-02, 8.23901972e-01, 3.01425099e-03, 3.69936707e-09,\n",
       "        1.52306902e-18, 2.10356477e-31],\n",
       "       [1.00000000e+00, 2.69741999e-26, 1.05040332e-14, 1.37216945e-06,\n",
       "        6.01317096e-02, 8.83982161e-01, 4.35940878e-03, 7.21200192e-09,\n",
       "        4.00247122e-18, 7.45151785e-31],\n",
       "       [1.00000000e+00, 4.04198304e-32, 4.03246596e-19, 1.34955652e-09,\n",
       "        1.51514986e-03, 5.70642676e-01, 7.20969761e-02, 3.05572309e-06,\n",
       "        4.34465292e-14, 2.07224130e-25],\n",
       "       [1.00000000e+00, 6.94771763e-27, 3.85508415e-15, 7.17578982e-07,\n",
       "        4.48073956e-02, 9.38585496e-01, 6.59541489e-03, 1.55472846e-08,\n",
       "        1.22945070e-17, 3.26145834e-30],\n",
       "       [1.00000000e+00, 8.69405116e-31, 4.50200734e-18, 7.82049695e-09,\n",
       "        4.55728981e-03, 8.90887959e-01, 5.84229760e-02, 1.28525235e-06,\n",
       "        9.48499886e-15, 2.34817415e-26],\n",
       "       [1.00000000e+00, 3.52462540e-32, 3.88553468e-19, 1.43692055e-09,\n",
       "        1.78262039e-03, 7.41872251e-01, 1.03572278e-01, 4.85067387e-06,\n",
       "        7.62087376e-14, 4.01653545e-25],\n",
       "       [1.00000000e+00, 6.39569280e-29, 1.09621589e-16, 6.30302068e-08,\n",
       "        1.21575347e-02, 7.86658877e-01, 1.70754250e-02, 1.24337103e-07,\n",
       "        3.03720501e-16, 2.48880928e-28],\n",
       "       [1.00000000e+00, 4.33607311e-28, 4.82973377e-16, 1.80465393e-07,\n",
       "        2.26208446e-02, 9.51191245e-01, 1.34174819e-02, 6.34919020e-08,\n",
       "        1.00788226e-16, 5.36717071e-29],\n",
       "       [1.00000000e+00, 1.51244312e-27, 1.23782816e-15, 3.39848855e-07,\n",
       "        3.13007978e-02, 9.67095024e-01, 1.00236763e-02, 3.48521092e-08,\n",
       "        4.06513752e-17, 1.59061679e-29],\n",
       "       [1.00000000e+00, 4.99847010e-28, 5.35120779e-16, 1.92181101e-07,\n",
       "        2.31533418e-02, 9.35752154e-01, 1.26868011e-02, 5.77015623e-08,\n",
       "        8.80373899e-17, 4.50599690e-29],\n",
       "       [1.00000000e+00, 1.65766524e-29, 4.20530955e-17, 3.57884799e-08,\n",
       "        1.02172185e-02, 9.78512218e-01, 3.14372081e-02, 3.38817499e-07,\n",
       "        1.22498802e-15, 1.48573718e-27],\n",
       "       [1.00000000e+00, 6.29399083e-34, 1.78059354e-20, 1.68984793e-10,\n",
       "        5.37990492e-04, 5.74573672e-01, 2.05854795e-01, 2.47411794e-05,\n",
       "        9.97525378e-13, 1.34918546e-23],\n",
       "       [1.00000000e+00, 3.01987475e-28, 3.70393904e-16, 1.52399266e-07,\n",
       "        2.10351718e-02, 9.73987532e-01, 1.51288137e-02, 7.88316287e-08,\n",
       "        1.37797160e-16, 8.08023851e-29],\n",
       "       [1.00000000e+00, 9.48576830e-33, 1.43510322e-19, 7.28346282e-10,\n",
       "        1.24004322e-03, 7.08239071e-01, 1.35696012e-01, 8.72164559e-06,\n",
       "        1.88050256e-13, 1.36017118e-24],\n",
       "       [1.00000000e+00, 4.25831891e-24, 4.26396827e-13, 1.43229966e-05,\n",
       "        1.61397930e-01, 6.10107235e-01, 7.73674949e-04, 3.29120580e-10,\n",
       "        4.69673102e-20, 2.24843576e-33],\n",
       "       [1.00000000e+00, 1.22549126e-26, 5.16115653e-15, 7.29168648e-07,\n",
       "        3.45583572e-02, 5.49442608e-01, 2.93045952e-03, 5.24316182e-09,\n",
       "        3.14698695e-18, 6.33637348e-31],\n",
       "       [1.00000000e+00, 5.55216389e-25, 9.66288439e-14, 5.64151094e-06,\n",
       "        1.10491337e-01, 7.25947428e-01, 1.60002311e-03, 1.18301837e-09,\n",
       "        2.93427533e-19, 2.44148680e-32],\n",
       "       [1.00000000e+00, 8.48111192e-29, 1.43759127e-16, 8.17451894e-08,\n",
       "        1.55931238e-02, 9.97810784e-01, 2.14194051e-02, 1.54244882e-07,\n",
       "        3.72613223e-16, 3.01960342e-28],\n",
       "       [1.00000000e+00, 5.38862032e-25, 9.41551939e-14, 5.51893304e-06,\n",
       "        1.08520082e-01, 7.15828928e-01, 1.58399032e-03, 1.17581757e-09,\n",
       "        2.92800296e-19, 2.44594801e-32],\n",
       "       [1.00000000e+00, 4.06643582e-28, 4.63839859e-16, 1.77486920e-07,\n",
       "        2.27828886e-02, 9.81059538e-01, 1.41718350e-02, 6.86753615e-08,\n",
       "        1.11640035e-16, 6.08811886e-29],\n",
       "       [1.00000000e+00, 1.14532132e-30, 5.35302193e-18, 8.39295404e-09,\n",
       "        4.41443181e-03, 7.78895015e-01, 4.61027871e-02, 9.15418285e-07,\n",
       "        6.09756066e-15, 1.36250097e-26],\n",
       "       [1.00000000e+00, 1.34064312e-28, 2.02634417e-16, 1.02744216e-07,\n",
       "        1.74761475e-02, 9.97190574e-01, 1.90877515e-02, 1.22567555e-07,\n",
       "        2.64022185e-16, 1.90787300e-28],\n",
       "       [1.00000000e+00, 2.47152152e-34, 7.05497639e-22, 6.75570812e-13,\n",
       "        2.17015291e-07, 2.33858919e-05, 8.45398914e-07, 1.02521176e-11,\n",
       "        4.17070637e-20, 5.69180216e-32],\n",
       "       [1.00000000e+00, 8.73885098e-34, 1.14866960e-21, 5.06500723e-13,\n",
       "        7.49219642e-08, 3.71776885e-06, 6.18870469e-08, 3.45590089e-13,\n",
       "        6.47391426e-22, 4.06833543e-34],\n",
       "       [1.00000000e+00, 2.66004149e-33, 3.86427769e-21, 1.88318241e-12,\n",
       "        3.07865196e-07, 1.68839068e-05, 3.10620020e-07, 1.91703518e-12,\n",
       "        3.96894307e-21, 2.75653683e-33],\n",
       "       [1.00000000e+00, 5.27228580e-34, 6.02781248e-22, 2.31187670e-13,\n",
       "        2.97449844e-08, 1.28382837e-06, 1.85884996e-08, 9.02871303e-14,\n",
       "        1.47113154e-22, 8.04120825e-35],\n",
       "       [1.00000000e+00, 7.33432626e-34, 9.49503928e-22, 4.12360874e-13,\n",
       "        6.00761760e-08, 2.93610279e-06, 4.81375935e-08, 2.64753457e-13,\n",
       "        4.88475795e-22, 3.02335123e-34],\n",
       "       [1.00000000e+00, 2.03012232e-32, 3.36806646e-20, 1.87449050e-11,\n",
       "        3.49969325e-06, 2.19190063e-04, 4.60527837e-06, 3.24589941e-11,\n",
       "        7.67464635e-20, 6.08731579e-32],\n",
       "       [1.00000000e+00, 2.97396226e-33, 3.21426869e-21, 1.16539473e-12,\n",
       "        1.41745103e-07, 5.78345317e-06, 7.91608645e-08, 3.63477873e-13,\n",
       "        5.59873062e-22, 2.89297920e-34],\n",
       "       [1.00000000e+00, 8.59441148e-37, 8.64464483e-25, 2.91690518e-16,\n",
       "        3.30173044e-11, 1.25373301e-09, 1.59702844e-11, 6.82439863e-17,\n",
       "        9.78273452e-26, 4.70435724e-38],\n",
       "       [1.00000000e+00, 9.75886232e-33, 1.64014056e-20, 9.24713269e-12,\n",
       "        1.74894944e-06, 1.10966418e-04, 2.36183755e-06, 1.68636905e-11,\n",
       "        4.03923731e-20, 3.24556461e-32],\n",
       "       [1.00000000e+00, 1.12972273e-36, 7.50659115e-24, 1.67323833e-14,\n",
       "        1.25117193e-08, 3.13848691e-06, 2.64099633e-07, 7.45520207e-12,\n",
       "        7.05984530e-20, 2.24272020e-31],\n",
       "       [1.00000000e+00, 4.18122778e-37, 4.18334479e-24, 1.40406638e-14,\n",
       "        1.58086856e-08, 5.97101320e-06, 7.56561861e-07, 3.21577017e-11,\n",
       "        4.58532059e-19, 2.19330260e-30],\n",
       "       [1.00000000e+00, 3.88923526e-30, 5.19353618e-19, 2.32651712e-11,\n",
       "        3.49617763e-07, 1.76248273e-06, 2.98057735e-09, 1.69090835e-15,\n",
       "        3.21798403e-25, 2.05443235e-38],\n",
       "       [1.00000000e+00, 1.57045627e-34, 4.52566981e-22, 4.37506012e-13,\n",
       "        1.41882663e-07, 1.54354317e-05, 5.63316375e-07, 6.89652184e-12,\n",
       "        2.83238314e-20, 3.90227642e-32],\n",
       "       [1.00000000e+00, 5.89526734e-33, 8.65858952e-21, 4.26613843e-12,\n",
       "        7.05126245e-07, 3.90969574e-05, 7.27215601e-07, 4.53761410e-12,\n",
       "        9.49808549e-21, 6.66943024e-33],\n",
       "       [1.00000000e+00, 6.80439043e-31, 1.58682242e-19, 1.24139953e-11,\n",
       "        3.25790914e-07, 2.86820709e-06, 8.47083431e-09, 8.39239688e-15,\n",
       "        2.78926633e-24, 3.10984040e-37],\n",
       "       [1.00000000e+00, 2.57576798e-27, 1.37850048e-16, 2.47486347e-09,\n",
       "        1.49052655e-05, 3.01142694e-05, 2.04102860e-08, 4.64055576e-15,\n",
       "        3.53944400e-25, 9.05616318e-39],\n",
       "       [1.00000000e+00, 9.43877675e-33, 7.68635636e-21, 2.09975905e-12,\n",
       "        1.92425469e-07, 5.91561346e-06, 6.10072107e-08, 2.11060370e-13,\n",
       "        2.44949391e-22, 9.53652562e-35],\n",
       "       [1.00000000e+00, 2.64279445e-27, 1.27632549e-16, 2.06777673e-09,\n",
       "        1.12380249e-05, 2.04889866e-05, 1.25312708e-08, 2.57106996e-15,\n",
       "        1.76960697e-25, 4.08586383e-39],\n",
       "       [1.00000000e+00, 3.20136071e-29, 1.60685741e-18, 2.70560387e-11,\n",
       "        1.52825290e-07, 2.89581219e-07, 1.84072834e-10, 3.92512192e-17,\n",
       "        2.80776495e-27, 6.73771271e-41],\n",
       "       [1.00000000e+00, 1.92205857e-36, 1.25647505e-23, 2.75540386e-14,\n",
       "        2.02703292e-08, 5.00242386e-06, 4.14137271e-07, 1.15014419e-11,\n",
       "        1.07153019e-19, 3.34888839e-31],\n",
       "       [1.00000000e+00, 5.41774525e-36, 2.68998585e-23, 4.48049045e-14,\n",
       "        2.50348654e-08, 4.69255218e-06, 2.95064598e-07, 6.22399514e-12,\n",
       "        4.40418475e-20, 1.04545648e-31],\n",
       "       [1.00000000e+00, 1.06167450e-36, 1.37743531e-23, 5.99508279e-14,\n",
       "        8.75312846e-08, 4.28721797e-05, 7.04420475e-06, 3.88268826e-10,\n",
       "        7.17921928e-18, 4.45313704e-29],\n",
       "       [1.00000000e+00, 1.34432457e-30, 3.87410455e-19, 3.74526613e-11,\n",
       "        1.21461370e-06, 1.32141067e-05, 4.82260386e-08, 5.90431494e-14,\n",
       "        2.42494328e-23, 3.34101018e-36],\n",
       "       [1.00000000e+00, 1.87855056e-30, 3.49538734e-19, 2.18178461e-11,\n",
       "        4.56848900e-07, 3.20905705e-06, 7.56182178e-09, 5.97749996e-15,\n",
       "        1.58510075e-24, 1.41006231e-37],\n",
       "       [1.00000000e+00, 3.39629982e-33, 4.05050501e-21, 1.62052774e-12,\n",
       "        2.17494316e-07, 9.79227266e-06, 1.47898316e-07, 7.49354128e-13,\n",
       "        1.27366474e-21, 7.26218469e-34],\n",
       "       [1.00000000e+00, 2.72971478e-35, 6.01423434e-23, 4.44516172e-14,\n",
       "        1.10214550e-08, 9.16715214e-07, 2.55784423e-08, 2.39418603e-13,\n",
       "        7.51771461e-22, 7.91877354e-34],\n",
       "       [1.00000000e+00, 1.73309672e-29, 2.47638226e-18, 1.18701638e-10,\n",
       "        1.90870973e-06, 1.02959685e-05, 1.86311073e-08, 1.13097831e-14,\n",
       "        2.30310653e-24, 1.57332312e-37],\n",
       "       [1.00000000e+00, 1.83137673e-30, 5.05408981e-19, 4.67899264e-11,\n",
       "        1.45313484e-06, 1.51392239e-05, 5.29109370e-08, 6.20342362e-14,\n",
       "        2.43984125e-23, 3.21911021e-36],\n",
       "       [1.00000000e+00, 2.05899898e-32, 1.13770341e-20, 2.10885214e-12,\n",
       "        1.31131596e-07, 2.73534875e-06, 1.91408937e-08, 4.49320115e-14,\n",
       "        3.53829189e-23, 9.34707218e-36],\n",
       "       [1.00000000e+00, 5.52324256e-38, 7.29088554e-25, 3.22857284e-15,\n",
       "        4.79606480e-09, 2.39003159e-06, 3.99545629e-07, 2.24064612e-11,\n",
       "        4.21525938e-19, 2.66023180e-30],\n",
       "       [1.00000000e+00, 2.23615385e-32, 2.08270005e-20, 6.50722646e-12,\n",
       "        6.82039077e-07, 2.39809697e-05, 2.82857936e-07, 1.11921659e-12,\n",
       "        1.48560741e-21, 6.61512594e-34],\n",
       "       [1.00000000e+00, 2.85394765e-32, 1.92814012e-20, 4.36993852e-12,\n",
       "        3.32243281e-07, 8.47385896e-06, 7.25020690e-08, 2.08095991e-13,\n",
       "        2.00364683e-22, 6.47176556e-35],\n",
       "       [1.00000000e+00, 3.98467363e-37, 1.92793504e-24, 3.12922061e-15,\n",
       "        1.70382157e-09, 3.11211895e-07, 1.90691971e-08, 3.91969948e-13,\n",
       "        2.70282098e-21, 6.25210028e-33],\n",
       "       [1.00000000e+00, 2.31323314e-33, 2.49261428e-21, 9.01020967e-13,\n",
       "        1.09259412e-07, 4.44454151e-06, 6.06511750e-08, 2.77648682e-13,\n",
       "        4.26379344e-22, 2.19654874e-34],\n",
       "       [1.00000000e+00, 2.50637526e-29, 7.89648992e-18, 8.34576631e-10,\n",
       "        2.95898320e-05, 3.51935376e-04, 1.40419523e-06, 1.87947349e-12,\n",
       "        8.43896263e-22, 1.27111858e-34],\n",
       "       [1.00000000e+00, 7.27294337e-33, 5.00902359e-21, 1.15728438e-12,\n",
       "        8.96956235e-08, 2.33209672e-06, 2.03407053e-08, 5.95154338e-14,\n",
       "        5.84167435e-23, 1.92348688e-35],\n",
       "       [1.00000000e+00, 4.11697152e-37, 2.75305591e-24, 6.17584439e-15,\n",
       "        4.64752573e-09, 1.17325228e-06, 9.93585291e-08, 2.82268910e-12,\n",
       "        2.69007930e-20, 8.60025375e-32],\n",
       "       [1.00000000e+00, 1.07918027e-30, 2.28598300e-19, 1.62441182e-11,\n",
       "        3.87225037e-07, 3.09652694e-06, 8.30673663e-09, 7.47532647e-15,\n",
       "        2.25670106e-24, 2.28539906e-37],\n",
       "       [1.00000000e+00, 2.37719765e-33, 2.81561582e-21, 1.11873093e-12,\n",
       "        1.49115243e-07, 6.66749319e-06, 1.00010884e-07, 5.03241089e-13,\n",
       "        8.49471997e-22, 4.81023379e-34],\n",
       "       [1.00000000e+00, 7.40840629e-31, 6.04607143e-19, 1.65525878e-10,\n",
       "        1.52020680e-05, 4.68364087e-04, 4.84070535e-06, 1.67833192e-11,\n",
       "        1.95205120e-20, 7.61638168e-33],\n",
       "       [1.00000000e+00, 1.06737022e-33, 2.16822269e-21, 1.47753179e-12,\n",
       "        3.37764440e-07, 2.59021111e-05, 6.66347150e-07, 5.75055910e-12,\n",
       "        1.66480642e-20, 1.61681957e-32],\n",
       "       [1.00000000e+00, 6.50550462e-33, 4.31942243e-21, 9.62087372e-13,\n",
       "        7.18865256e-08, 1.80187483e-06, 1.51511601e-08, 4.27377153e-14,\n",
       "        4.04409045e-23, 1.28373258e-35],\n",
       "       [1.00000000e+00, 2.27198513e-35, 4.40227231e-23, 2.86149155e-14,\n",
       "        6.23953429e-09, 4.56410922e-07, 1.11996391e-08, 9.21926227e-14,\n",
       "        2.54584792e-22, 2.35837515e-34],\n",
       "       [1.00000000e+00, 1.81387086e-39, 6.17002390e-26, 7.04062922e-16,\n",
       "        2.69513327e-09, 3.46093277e-06, 1.49090587e-06, 2.15452447e-10,\n",
       "        1.04447195e-17, 1.69858107e-28],\n",
       "       [1.00000000e+00, 4.44550795e-31, 1.26489999e-19, 1.20735542e-11,\n",
       "        3.86596772e-07, 4.15265122e-06, 1.49636257e-08, 1.80880753e-14,\n",
       "        7.33486333e-24, 9.97782399e-37],\n",
       "       [1.00000000e+00, 1.68774467e-31, 3.06681391e-20, 1.86944308e-12,\n",
       "        3.82279681e-08, 2.62237217e-07, 6.03464301e-10, 4.65857386e-16,\n",
       "        1.20642001e-25, 1.04806501e-38],\n",
       "       [1.00000000e+00, 3.55259201e-38, 5.21025760e-25, 2.56340485e-15,\n",
       "        4.23076937e-09, 2.34242474e-06, 4.35066943e-07, 2.71075752e-11,\n",
       "        5.66590645e-19, 3.97275949e-30],\n",
       "       [1.00000000e+00, 2.80903211e-34, 8.05031111e-22, 7.73949759e-13,\n",
       "        2.49607149e-07, 2.70050766e-05, 9.80117071e-07, 1.19331373e-11,\n",
       "        4.87388712e-20, 6.67790814e-32],\n",
       "       [1.00000000e+00, 4.68990608e-35, 1.17913773e-22, 9.94509808e-14,\n",
       "        2.81382932e-08, 2.67073363e-06, 8.50369244e-08, 9.08298628e-13,\n",
       "        3.25457225e-21, 3.91204031e-33],\n",
       "       [1.00000000e+00, 6.37711818e-33, 1.35982490e-20, 9.72715108e-12,\n",
       "        2.33416996e-06, 1.87898553e-04, 5.07409438e-06, 4.59661141e-11,\n",
       "        1.39688671e-19, 1.42406143e-31]])"
      ]
     },
     "execution_count": 154,
     "metadata": {},
     "output_type": "execute_result"
    }
   ],
   "source": [
    "FI"
   ]
  },
  {
   "cell_type": "code",
   "execution_count": 155,
   "id": "b24b3a06",
   "metadata": {},
   "outputs": [
    {
     "data": {
      "text/plain": [
       "(100, 1)"
      ]
     },
     "execution_count": 155,
     "metadata": {},
     "output_type": "execute_result"
    }
   ],
   "source": [
    "sigmoid_bar_array.shape"
   ]
  },
  {
   "cell_type": "code",
   "execution_count": null,
   "id": "78a290e5",
   "metadata": {},
   "outputs": [],
   "source": []
  },
  {
   "cell_type": "code",
   "execution_count": 156,
   "id": "f2bfa703",
   "metadata": {},
   "outputs": [
    {
     "data": {
      "text/plain": [
       "<matplotlib.collections.PathCollection at 0x21f2c5958b0>"
      ]
     },
     "execution_count": 156,
     "metadata": {},
     "output_type": "execute_result"
    },
    {
     "data": {
      "image/png": "[encoded data removed]",
      "text/plain": [
       "<Figure size 640x480 with 1 Axes>"
      ]
     },
     "metadata": {},
     "output_type": "display_data"
    }
   ],
   "source": [
    "plt.scatter(np.linspace(0,1,100),y_pred)"
   ]
  },
  {
   "cell_type": "code",
   "execution_count": null,
   "id": "93c89122",
   "metadata": {},
   "outputs": [],
   "source": [
    "FI.shape\n",
    "inv_ss0.shape\n",
    "sigmoid_bar_array.shape\n",
    "t_bar.shape"
   ]
  },
  {
   "cell_type": "code",
   "execution_count": 19,
   "id": "55dcc253",
   "metadata": {},
   "outputs": [
    {
     "data": {
      "text/plain": [
       "(10, 10)"
      ]
     },
     "execution_count": 19,
     "metadata": {},
     "output_type": "execute_result"
    }
   ],
   "source": [
    "\n",
    "w_bar.shape\n",
    "inv_ss0.shape"
   ]
  },
  {
   "cell_type": "code",
   "execution_count": null,
   "id": "e2c2548b",
   "metadata": {},
   "outputs": [],
   "source": [
    "R.shape"
   ]
  },
  {
   "cell_type": "code",
   "execution_count": 10,
   "id": "48eaf89d",
   "metadata": {},
   "outputs": [
    {
     "data": {
      "text/plain": [
       "(10, 10)"
      ]
     },
     "execution_count": 10,
     "metadata": {},
     "output_type": "execute_result"
    }
   ],
   "source": [
    "diffE.shape"
   ]
  },
  {
   "cell_type": "code",
   "execution_count": 22,
   "id": "96ccd205",
   "metadata": {},
   "outputs": [
    {
     "data": {
      "text/plain": [
       "(10, 10)"
      ]
     },
     "execution_count": 22,
     "metadata": {},
     "output_type": "execute_result"
    }
   ],
   "source": [
    "(np.dot(inv_ss0,w_bar)+np.dot(FI.T,(sigmoid_bar_array-t_bar))).shape"
   ]
  },
  {
   "cell_type": "code",
   "execution_count": 23,
   "id": "672ba39a",
   "metadata": {},
   "outputs": [
    {
     "data": {
      "text/plain": [
       "(100,)"
      ]
     },
     "execution_count": 23,
     "metadata": {},
     "output_type": "execute_result"
    }
   ],
   "source": [
    "(sigmoid_bar_array-t_bar).shape"
   ]
  },
  {
   "cell_type": "code",
   "execution_count": 27,
   "id": "444552f4",
   "metadata": {},
   "outputs": [
    {
     "data": {
      "text/plain": [
       "(100, 1)"
      ]
     },
     "execution_count": 27,
     "metadata": {},
     "output_type": "execute_result"
    }
   ],
   "source": [
    "t_bar = np.reshape(t_bar,(N,1))\n",
    "t_bar.shape"
   ]
  },
  {
   "cell_type": "code",
   "execution_count": null,
   "id": "63dea88a",
   "metadata": {},
   "outputs": [],
   "source": []
  }
 ],
 "metadata": {
  "kernelspec": {
   "display_name": "Python 3 (ipykernel)",
   "language": "python",
   "name": "python3"
  },
  "language_info": {
   "codemirror_mode": {
    "name": "ipython",
    "version": 3
   },
   "file_extension": ".py",
   "mimetype": "text/x-python",
   "name": "python",
   "nbconvert_exporter": "python",
   "pygments_lexer": "ipython3",
   "version": "3.8.17"
  }
 },
 "nbformat": 4,
 "nbformat_minor": 5
}
